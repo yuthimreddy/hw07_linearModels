{
  "cells": [
    {
      "cell_type": "markdown",
      "id": "e0c7b14a-e5aa-4abc-b48b-b8a9d20dacac",
      "metadata": {
        "id": "e0c7b14a-e5aa-4abc-b48b-b8a9d20dacac"
      },
      "source": [
        "# Assignment: Linear Models\n",
        "## Do three questions.\n",
        "### `! git clone https://github.com/ds4e/linearModels`"
      ]
    },
    {
      "cell_type": "markdown",
      "id": "bf4826b0",
      "metadata": {
        "id": "bf4826b0"
      },
      "source": [
        "**Q1.** Please answer the following questions in your own words.\n",
        "\n",
        "1. What makes a model \"linear\"? \"Linear\" in what?\n",
        "2. How do you interpret the coefficient for a dummy/one-hot-encoded variable? (This is a trick question, and the trick involves how you handle the intercept of the model.)\n",
        "3. Can linear regression be used for classification? Explain why, or why not.\n",
        "4. What are signs that your linear model is over-fitting?\n",
        "5. Clearly explain multi-colinearity using the two-stage least squares technique.\n",
        "6. How can you incorporate nonlinear relationships between your target/response/dependent/outcome variable $y$ and your features/control/response/independent variables $x$ into your analysis?\n",
        "7. What is the interpretation of the intercept? A slope coefficient for a variable? The coefficient for a dummy/one-hot-encoded variable?"
      ]
    },
    {
      "cell_type": "markdown",
      "id": "5047563c",
      "metadata": {},
      "source": [
        "ANSWER: \n",
        "1) A model being linear refers to when the relationship between the feature matrix and the target matrix can be expressed as a weighted sum of the two. Linear, meaning if both inputs demonstrate some sort of relationship/correlation in contrast to other transformations to the data.\n",
        "2) The coefficient depends on whether we include the intercept or not (in which most cases we want to include it). The coefficient can be interpreted differently depending on whether we decide to include the intercept or omit it. Including the intercept would mean that the coefficient is representative of the difference in the mean response. If we choose not to include the intercept then the coefficient now represents the actual mean response itself.\n",
        "3) Linear regression is not the best method for classification since we can have predicted values that are outside the range of [0,1], which doesn't make sense regarding probabilities since they are restricted to that interval. Linear regression is better for continuous values (regression) rather than categorical values.\n",
        "4) Signs of overfitting can include values too close to the training data and peaks specific to the training set: meaning, if the model is capturing too much noise or extreme outliers, the model is more so focused on memorizing the training data rather than understanding the general pattern/trend within the training set. If the model is resulting in a high R^2 value on the training data but not the test set, that means the model is performing great at fitting the original but not able to be applied to other datasets.\n",
        "5) Multi-colinearity refers to when there is a high correlation between the predictor variables in the regression model. This can lead to higher variance values in the coefficients which makes estimates unstable/unclear. Two stage least squares can result in multi-colinearity if there is overlapping variation between x and the other predictors/features.\n",
        "6) We can incorporate nonlinear relationships while maintaining a linear model by changing the either the features (x) or the response (y). For example, we can include polynomial terms or use log transformations of either x and y. Both methods keep the linearity between the platforms even if the features are nonlinear transformations.\n",
        "7) We could add polynomial terms or use the log to transform x and The intercept is the expected y-value when all x is zero. the slope coefficient is the expected change in y over change in x, and the dummy variable coefficient is the difference of the expected value of y and the base group (which is set to 1 with the reference group set to 0).\n"
      ]
    },
    {
      "cell_type": "markdown",
      "id": "25bf83c6-ff44-42d6-9b33-8be1b945860d",
      "metadata": {
        "id": "25bf83c6-ff44-42d6-9b33-8be1b945860d"
      },
      "source": [
        "**Q2.** Load `./data/Q1_clean.csv`. The data include\n",
        "\n",
        "- `Price` per night\n",
        "- `Review Scores Rating`: The average rating for the property\n",
        "- `Neighbourhood `: The bourough of NYC. Note the space, or rename the variable.\n",
        "- `Property Type`: The kind of dwelling\n",
        "- `Room Type`: The kind of space being rented\n",
        "\n",
        "1. Compute the average prices and scores by `Neighbourhood `; which bourough is the most expensive on average? Create a kernel density plot of price and log price, grouping by `Neighbourhood `.\n",
        "2. Regress price on `Neighbourhood ` by creating the appropriate dummy/one-hot-encoded variables, without an intercept in the linear model and using all the data. Compare the coefficients in the regression to the table from part 1. What pattern do you see? What are the coefficients in a regression of a continuous variable on one categorical variable?\n",
        "3. Repeat part 2, but leave an intercept in the linear model. How do you have to handle the creation of the dummies differently? What is the intercept? Interpret the coefficients. How can I get the coefficients in part 2 from these new coefficients?\n",
        "4. Split the sample 80/20 into a training and a test set. Run a regression of `Price` on `Review Scores Rating` and `Neighbourhood `. What is the $R^2$ and RMSE on the test set? What is the coefficient on `Review Scores Rating`? What is the most expensive kind of property you can rent?\n",
        "5. Split the sample 80/20 into a training and a test set. Run a regression of `Price` on `Review Scores Rating` and `Neighbourhood ` and `Property Type`. What is the $R^2$ and RMSE on the test set? What is the coefficient on `Review Scores Rating`? What is the most expensive kind of property you can rent?\n",
        "6. What does the coefficient on `Review Scores Rating` mean if it changes from part 4 to 5? Hint: Think about how multilple linear regression works.\n",
        "7. (Optional) We've included `Neighborhood ` and `Property Type` separately in the model. How do you interact them, so you can have \"A bedroom in Queens\" or \"A townhouse in Manhattan\". Split the sample 80/20 into a training and a test set and run a regression including that kind of \"property type X neighborhood\" dummy, plus `Review Scores Rating`. How does the slope coefficient for `Review Scores Rating`, the $R^2$, and the RMSE change? Do they increase significantly compares to part 5? Are the coefficients in this regression just the sum of the coefficients for `Neighbourhood ` and `Property Type` from 5? What is the most expensive kind of property you can rent?"
      ]
    },
    {
      "cell_type": "markdown",
      "id": "95f22300-0180-4ed2-be8f-ed56cf4cd36b",
      "metadata": {
        "id": "95f22300-0180-4ed2-be8f-ed56cf4cd36b"
      },
      "source": [
        "**Q3.** This question is a case study for linear models. The data are about car prices. In particular, they include:\n",
        "\n",
        "  - `Price`, `Color`, `Seating_Capacity`\n",
        "  - `Body_Type`: crossover, hatchback, muv, sedan, suv\n",
        "  - `Make`, `Make_Year`: The brand of car and year produced\n",
        "  - `Mileage_Run`: The number of miles on the odometer\n",
        "  - `Fuel_Type`: Diesel or gasoline/petrol\n",
        "  - `Transmission`, `Transmission_Type`:  speeds and automatic/manual\n",
        "\n",
        "  1. Load `cars_hw.csv`. These data were really dirty, and I've already cleaned them a significant amount in terms of missing values and other issues, but some issues remain (e.g. outliers, badly scaled variables that require a log or arcsinh transformation). Clean the data however you think is most appropriate.\n",
        "  2. Summarize the `Price` variable and create a kernel density plot. Use `.groupby()` and `.describe()` to summarize prices by brand (`Make`). Make a grouped kernel density plot by `Make`. Which car brands are the most expensive? What do prices look like in general?\n",
        "  3. Split the data into an 80% training set and a 20% testing set.\n",
        "  4. Make a model where you regress price on the numeric variables alone; what is the $R^2$ and `RMSE` on the training set and test set? Make a second model where, for the categorical variables, you regress price on a model comprised of one-hot encoded regressors/features alone (you can use `pd.get_dummies()`; be careful of the dummy variable trap); what is the $R^2$ and `RMSE` on the test set? Which model performs better on the test set? Make a third model that combines all the regressors from the previous two; what is the $R^2$ and `RMSE` on the test set? Does the joint model perform better or worse, and by home much?\n",
        "  5. Use the `PolynomialFeatures` function from `sklearn` to expand the set of numerical variables you're using in the regression. As you increase the degree of the expansion, how do the $R^2$ and `RMSE` change? At what point does $R^2$ go negative on the test set? For your best model with expanded features, what is the $R^2$ and `RMSE`? How does it compare to your best model from part 4?\n",
        "  6. For your best model so far, determine the predicted values for the test data and plot them against the true values. Do the predicted values and true values roughly line up along the diagonal, or not? Compute the residuals/errors for the test data and create a kernel density plot. Do the residuals look roughly bell-shaped around zero? Evaluate the strengths and weaknesses of your model."
      ]
    },
    {
      "cell_type": "markdown",
      "id": "aedcd486",
      "metadata": {},
      "source": [
        "**Q4.** This question refers to the `heart_hw.csv` data. It contains three variables:\n",
        "\n",
        "  - `y`: Whether the individual survived for three years, coded 0 for death and 1 for survival\n",
        "  - `age`: Patient's age\n",
        "  - `transplant`: `control` for not receiving a transplant and `treatment` for receiving a transplant\n",
        "\n",
        "Since a heart transplant is a dangerous operation and even people who successfully get heart transplants might suffer later complications, we want to look at whether a group of transplant recipients tends to survive longer than a comparison group who does not get the procedure.\n",
        "\n",
        "1. Compute (a) the proportion of people who survive in the control group who do not receive a transplant, and (b) the difference between the proportion of people who survive in the treatment group and the proportion of people who survive in the control group. In a randomized controlled trial, this is called the **average treatment effect**.\n",
        "2. Regress `y` on `transplant` using a linear model with a constant. How does the constant/intercept of the regression and the coefficient on transplant compare to your answers from part 1? Explain the relationship clearly.\n",
        "3. We'd like to include `age` in the regression, since it's reasonable to expect that older patients are less likely to survive an extensive surgery like a heart transplant. Regress `y` on a constant, transplant, and age. How does the intercept change?\n",
        "4. Build a more flexible model that allows for non-linear age effects and interactions between age and treatment. Use a train-test split to validate your model. Estimate your best model, predict the survival probability by age, and plot your results conditional on receiving a transplant and not. Describe what you see.\n",
        "5. Imagine someone suggests using these kinds of models to select who receives organ transplants; perhaps the CDC or NIH starts using a scoring algorithm to decide who is contacted about a potential organ. What are your concerns about how it is built and how it is deployed?"
      ]
    },
    {
      "cell_type": "code",
      "execution_count": 9,
      "id": "b36a1e4d",
      "metadata": {},
      "outputs": [
        {
          "name": "stdout",
          "output_type": "stream",
          "text": [
            "The proportion of people who survive in the control group who do not receive a transplant: 0.11764705882352941\n",
            "The proportion of people who survive in the control group who received a transplant: 0.34782608695652173\n",
            "0.23017902813299232\n"
          ]
        }
      ],
      "source": [
        "# setting up environment:\n",
        "import pandas as pd\n",
        "import numpy as np\n",
        "import matplotlib.pyplot as plt\n",
        "\n",
        "# loading dataset and previewing:\n",
        "heart_df = pd.read_csv('./data/heart_hw.csv')\n",
        "heart_df.head(5)\n",
        "\n",
        "# Q1a) compute the proportion of control survival:\n",
        "control_survival = heart_df[heart_df['transplant'] == 'control']['y'].mean()\n",
        "treatment_survival = heart_df[heart_df['transplant'] == 'treatment']['y'].mean()\n",
        "\n",
        "print(f\"The proportion of people who survive in the control group who do not receive a transplant: {(control_survival)}\")\n",
        "print(f\"The proportion of people who survive in the control group who received a transplant: {(treatment_survival)}\")\n",
        "\n",
        "difference = treatment_survival - control_survival\n",
        "print(difference)"
      ]
    },
    {
      "cell_type": "code",
      "execution_count": 2,
      "id": "48032b4c",
      "metadata": {},
      "outputs": [
        {
          "name": "stdout",
          "output_type": "stream",
          "text": [
            "0.11764705882352941\n"
          ]
        }
      ],
      "source": [
        "# Q1b) Difference between the treatment and control groups:\n",
        "control_survival = heart_df[heart_df['transplant'] == 'control']['y'].mean()\n",
        "treatment_survival = heart_df[heart_df['transplant'] == 'treatment']['y'].mean()\n",
        "\n",
        "print(control_survival)\n"
      ]
    },
    {
      "cell_type": "code",
      "execution_count": 3,
      "id": "0923072a",
      "metadata": {},
      "outputs": [],
      "source": [
        "# Q2) \n",
        "# setting dummy var: 0 as control and 1 for treatment\n",
        "heart_df['transplant_dummy'] = (heart_df['transplant'] == 'treatment').astype(int)\n",
        "# setting X and Y vars:\n",
        "x = (heart_df['transplant'])\n",
        "y = heart_df['y']"
      ]
    },
    {
      "cell_type": "code",
      "execution_count": 8,
      "id": "43632698",
      "metadata": {},
      "outputs": [
        {
          "name": "stdout",
          "output_type": "stream",
          "text": [
            "Intercept (Control survival): 0.118\n",
            "Treatment effect (ATE): 0.230\n"
          ]
        }
      ],
      "source": [
        "# using slr function from notes:\n",
        "from sklearn.linear_model import LinearRegression\n",
        "\n",
        "def custom_lr(x, y):\n",
        "    \"\"\"Custom linear regression (single or multiple predictors).\"\"\"\n",
        "    x_bar = np.mean(x, axis=0)\n",
        "    y_bar = np.mean(y)\n",
        "    \n",
        "    # center x and y\n",
        "    x_centered = x - x_bar\n",
        "    y_centered = y - y_bar\n",
        "    \n",
        "    # Solve for coefficients: (X'X)^-1 X'y\n",
        "    beta = np.linalg.inv(x_centered.T @ x_centered) @ x_centered.T @ y_centered\n",
        "    b0 = y_bar - np.dot(beta, x_bar)  # Intercept\n",
        "    \n",
        "    y_hat = b0 + x @ beta\n",
        "    residuals = y - y_hat\n",
        "    \n",
        "    return {'b0': b0, 'betas': beta, 'y_hat': y_hat, 'residuals': residuals}\n",
        "\n",
        "# creating dummy variable (control = 0, treatment = 1)\n",
        "treatment_dummy = (heart_df['transplant'] == 'treatment').astype(int).values.reshape(-1, 1)\n",
        "y = heart_df['y'].values\n",
        "\n",
        "# plugging into function/model:\n",
        "results = custom_lr(treatment_dummy, y)\n",
        "print(f\"Intercept (Control survival): {results['b0']:.3f}\")\n",
        "print(f\"Treatment effect (ATE): {results['betas'][0]:.3f}\")"
      ]
    },
    {
      "cell_type": "markdown",
      "id": "9d3987c1",
      "metadata": {},
      "source": [
        "Q2) The values are identical to our initial averages calculated from part 1."
      ]
    },
    {
      "cell_type": "code",
      "execution_count": 5,
      "id": "d60bca03",
      "metadata": {},
      "outputs": [
        {
          "name": "stdout",
          "output_type": "stream",
          "text": [
            "Intercept (extrapolated): 0.702\n",
            "Treatment effect (adjusted): 0.265\n",
            "Age effect: -0.014\n"
          ]
        }
      ],
      "source": [
        "# Q3) adding age as a predictor\n",
        "X = np.column_stack([treatment_dummy, heart_df['age'].values])\n",
        "results_age = custom_lr(X, y)\n",
        "\n",
        "print(f\"Intercept (extrapolated): {results_age['b0']:.3f}\")\n",
        "print(f\"Treatment effect (adjusted): {results_age['betas'][0]:.3f}\")\n",
        "print(f\"Age effect: {results_age['betas'][1]:.3f}\")"
      ]
    },
    {
      "cell_type": "markdown",
      "id": "1f497673",
      "metadata": {},
      "source": [
        "Q3) The intercept increased significantly compared to the previous value. Before adding age, intercept value was 0.118 and with age it increased to 0.702. We should expect to see a negative relationship between age and survival or betas1 since the older you are, the lower your chances of survival."
      ]
    },
    {
      "cell_type": "code",
      "execution_count": 6,
      "id": "94a56cf4",
      "metadata": {},
      "outputs": [
        {
          "name": "stdout",
          "output_type": "stream",
          "text": [
            "Flexible model coefficients: [ 7.03436930e-01  2.35283022e-02 -4.02762142e-04 -1.01668648e-02]\n"
          ]
        }
      ],
      "source": [
        "# Add polynomial/interaction terms\n",
        "age = heart_df['age'].values\n",
        "X_flex = np.column_stack([\n",
        "    treatment_dummy,\n",
        "    age,\n",
        "    age**2,                      # age²\n",
        "    age * treatment_dummy.flatten()  # age×treatment\n",
        "])\n",
        "\n",
        "results_flex = custom_lr(X_flex, y)\n",
        "print(\"Flexible model coefficients:\", results_flex['betas'])"
      ]
    },
    {
      "cell_type": "code",
      "execution_count": 7,
      "id": "f2aeab80",
      "metadata": {},
      "outputs": [
        {
          "data": {
            "image/png": "[encoded data removed]",
            "text/plain": [
              "<Figure size 1000x600 with 1 Axes>"
            ]
          },
          "metadata": {},
          "output_type": "display_data"
        }
      ],
      "source": [
        "# Generate predictions for plotting\n",
        "age_range = np.linspace(heart_df['age'].min(), heart_df['age'].max(), 100)\n",
        "X_plot_control = np.column_stack([\n",
        "    np.zeros_like(age_range),    # treatment=0\n",
        "    age_range,\n",
        "    age_range**2,\n",
        "    np.zeros_like(age_range)     # age×treatment=0\n",
        "])\n",
        "X_plot_treatment = np.column_stack([\n",
        "    np.ones_like(age_range),     # treatment=1\n",
        "    age_range,\n",
        "    age_range**2,\n",
        "    age_range                    # age×treatment=age\n",
        "])\n",
        "\n",
        "y_hat_control = results_flex['b0'] + X_plot_control @ results_flex['betas']\n",
        "y_hat_treatment = results_flex['b0'] + X_plot_treatment @ results_flex['betas']\n",
        "\n",
        "# Plot:\n",
        "\n",
        "# Scaffolding:\n",
        "plt.figure(figsize=(10, 6))\n",
        "plt.title('Survival Probability by Age and Treatment')\n",
        "\n",
        "plt.plot(age_range, y_hat_control, label='Control')\n",
        "plt.plot(age_range, y_hat_treatment, label='Treatment')\n",
        "\n",
        "# == X-AXIS == \n",
        "plt.xlabel('Age')\n",
        "# == Y-AXIS == \n",
        "plt.ylabel('Predicted Survival Probability')\n",
        "\n",
        "plt.legend()\n",
        "\n",
        "\n",
        "plt.show()"
      ]
    },
    {
      "cell_type": "markdown",
      "id": "9b49d6b3",
      "metadata": {},
      "source": [
        "Q5) Both factors seem to have strong effects when it comes to determining chances of survival. The lower your age, the better your chances are but this trend is only clear in the Treatment curve, meaning that even if you are young; if you do not receive a treatment, your chances of survival are not as strong. This makes sense when considering that the ages the highest predicted survival possibility for the control treatment seems to be around the upper 20s. Adolescents and children would have higher risks since they are still developing, which would makes sense graphically seeing as the control curve is more symmetrical. "
      ]
    },
    {
      "cell_type": "markdown",
      "id": "7bd15c6b-4c7c-4230-a199-e03e1054ec6a",
      "metadata": {
        "id": "7bd15c6b-4c7c-4230-a199-e03e1054ec6a"
      },
      "source": [
        "**Q5.** This is a question about linear regression. The outcome is whether a defendant is held pre-trial in the Virginia justice system. We would like to understand how that outcome is predicted by characteristics of the defendant, particularly race. Let's be very careful/clear: We aren't saying anyone *should* be held without bond or asserting that people with different demographic variables *should* be more likely to be held, but instead trying to predict whether people with different characteristics *are empirically more likely* to be held without bond, given the available information. This is the first step we would take in investigating whether a system is fair, or how large the disparities are: Does it treat people with similar observable characteristics similarly, or not? We are going to look at a common question: Are Black defendants treated differently from white or Asian ones? (There are Native American defendants, but there are 11 in total, which is such a small number of observations that is difficult to clearly say anything about how this group is treated relative to the others.)\n",
        "\n",
        "The variables in the data are:\n",
        "\n",
        "  - `held_wo_bail`: Whether a defendant is held without bail before trial (Boolean logical)\n",
        "  - `race`, `sex`: Categorical demographic variables\n",
        "  - `is_poor`: Whether the defendant is classified as indigent\n",
        "  - `prior_F`, `prior_M`: The number of prior felony and misdemeanor arrests\n",
        "  - `case_type`: A categorical variable indicating a misdemeanor `M` or felony `F` or infraction `I` or special case `S`\n",
        "  - `age`: Defendant's age\n",
        "  - `bond`, `bond_NA`, `bond_type`: The amount of any bond, whether it is missing, and the type\n",
        "  - `sentence`, `sentence_NA`, `sentence_type`: The length of any sentence, whether it is missing, and the type\n",
        "\n",
        "1. Load the `pretrial_data.csv` data. Notice that there are `nan`s, but the data are relatively clean. Because there are `.nan`s among variables you won't use, you'll want to narrow down your analysis to the relevant variables before dropping or imputing missing values.\n",
        "2. Create a dummy variable indicating that the defendant is Black.\n",
        "3. Regress `held` on `Black`. What is the slope coefficient Interpret the coefficient on the Black dummy variable: How much more likely is a black person to be held without bail? What is the $R^2$ of the model?\n",
        "4. Before doing this question, please think for a few minutes about how to make the process of running the following regressions as efficient as possible, before jumping into writing code. Repeat part 2, for the following specifications, keeping track of the coefficient on the Black dummy variable each time:\n",
        "      - `held` on `Black` and `sex`\n",
        "      - `held` on `Black` and `sex` and `is_poor`\n",
        "      - `held` on `Black` and `sex` and `is_poor` and `prior_F`\n",
        "      - `held` on `Black` and `sex` and `is_poor` and `prior_F` and `case_type`\n",
        "What happens to the coefficient on the Black dummy variable as you include more regressors/features/controls in the regression? Explain your findings.\n",
        "5. Suppose we don't want to see just `Black` and `sex`, but `Black` interacted with `sex`: Are Black men and Black women treated systemically differently from the rest of the population? Implement this in a regression, and explain your findings.\n",
        "6. Imagine someone argued we should use these kinds of models to help a judge or magistrate make bail decisions (you could obviously go back and make this kind of model for the bond and sentence variables, then deploy it on new cases to predict what their bond and sentence values would be). What concerns would you have? Do you think society should be using data-driven and automated tools like that? Explain your concerns clearly."
      ]
    },
    {
      "cell_type": "markdown",
      "id": "ca1cfba3",
      "metadata": {
        "vscode": {
          "languageId": "plaintext"
        }
      },
      "source": [
        "**Q6.** Let's explore multiple linear regression in a two-variable case, to build more intuition about what is happening.\n",
        "\n",
        "Suppose the model is \n",
        "$$\n",
        "\\hat{y}_i = b_0 + b_1 z_{i1} + b_2 z_{i2}\n",
        "$$\n",
        "Assume that $z_{ij}$ is centered or de-meaned, so that $z_{ij} = x_{ij} - m_j$ where $m_j$ is the mean of variable $j$ and $x_{ij}$ is the original value of variable $j$ for observation $i$. Notice that this implies\n",
        "$$\n",
        "\\dfrac{1}{N} \\sum_{i=1}^N z_{ij} = 0\n",
        "$$\n",
        "which will simplify your calculations below substantially!\n",
        "\n",
        "1. Write down the SSE for this model.\n",
        "2. Take partial derivatives with respect to $b_0$, $b_1$, and $b_2$.\n",
        "3. Verify that the average error is zero and $e \\cdot z =0$ at the optimum, just as in the single linear regression case.\n",
        "4. Show that the optimal intercept is $b_0^* = \\bar{y}$. Eliminate $b_0^*$ from the remaining equations, and focus on $b_1$ and $b_2$.\n",
        "5. Write your results as a matrix equation in the form \"$Ab=C$\". These are called the **normal equations**.\n",
        "6. Divide both sides by $N$ and substitute $z_{ij} = x_{ij} - m_j$ back into your normal equations for $x_{ij}$. What is the matrix $A$? What is the vector $C$? Explain the intuition of your discovery."
      ]
    },
    {
      "cell_type": "markdown",
      "id": "547d5828",
      "metadata": {},
      "source": [
        "**Q7.** In class, we showed that for the single linear regression model,\n",
        "\\begin{alignat*}{3}\n",
        "a^* &=& \\bar{y} \\\\\n",
        "b^* &=& \\dfrac{\\sum_{i=1}^N(y_i - \\bar{y})(x_i-\\bar{x})}{\\sum_{i=1}^N (x_i-\\bar{x})^2},\n",
        "\\end{alignat*}\n",
        "\n",
        "1. When will $b^*$ be large or small, depending on the relationship between $X$ and $Y$ and the variance of $X$?\n",
        "2. Suppose you have measurement error in $X$ which artificially inflates its variance (e.g. bad data cleaning). We'll model this as saying the \"real\" value of $X$ for observation $i$ is $z_i$, but we observe $x_i = z_i + n_i$, where $n_i$ is the added noise. Does this affect the intercept of the regression? What happens to the $b^*$ coefficient relative to a noise-less model? How will affect your ability to predict? (This phenomenon is called **attenuation**.) \n",
        "3. Suppose the noise $n_i$ is independent of $z_i$ and $y_i$, so that (approximately)\n",
        "$$\n",
        "\\dfrac{1}{N} \\sum_{i=1}^N (y_i - \\bar{y})(n_i - \\bar{n}) =0, \\quad \\dfrac{1}{N} \\sum_{i=1}^N (z_i - \\bar{z})(n_i - \\bar{n}) =0.\n",
        "$$\n",
        "and that the mean of the bias is zero, so that\n",
        "$$\n",
        "\\dfrac{1}{N} \\sum_{i=1}^N n_i = 0.\n",
        "$$\n",
        "In this case, the noise $n_i$ is zero on average and independent of the values of $x_i$ and $y_i$: It's just measurement error or lazy data cleaning.\n",
        "Explain the intuition of your result. \n",
        "\n",
        "4. How does attenuation factor into the cost-benefit analysis of gathering higher quality data or cleaning it more carefully?"
      ]
    },
    {
      "cell_type": "markdown",
      "id": "dd6db9e1",
      "metadata": {},
      "source": [
        "ANSWER: \n",
        "1. $b^*$ is larger when the denominator is smaller, meaning that when variance (X) is low, then $b^*$ will be larger. If X is tightly grouped/clustered around Y then $b^*$ will be larger, as their variance is smaller. $b^*$ is smaller when there is *high* variance no covariance, meaning that there is a weak linear relationship between both X and Y. If the variance is high then the dominator is larger, meaning that $b^*$ will be smaller.\n",
        "2. The intercept remains unaffected since the noise mean is equal to the mean (both are 0). The slope would become biased to 0 as well which leads to weaker predictions since we are underestimating the real relationship, meaning that the regression line would appear flatter than the actual.\n",
        "3. Noise remains uncorrelated with both zi and yi. B attenuates due to the noise inflation of variance or the denominator under $b^*$, but does not add signal to the covariance or the numerator. We are left with a sort of diluted or weaker $b^*$ since the noise makes X seem less predictive of Y.\n",
        "4. Attenuation bias leads to us underestimating its effects which leads to reduced predictive power, leaving us with weaker predictions. Investing the time and resources into data cleaning helps reduce the value of n which brings $b^*$ closer to the true $b^*$; overall, improving the model accuracy and actionable insights. "
      ]
    },
    {
      "cell_type": "markdown",
      "id": "b67478ac-ad78-4a44-9720-583c71b8da14",
      "metadata": {
        "id": "b67478ac-ad78-4a44-9720-583c71b8da14"
      },
      "source": [
        "**Q8.**\n",
        "1. Find a dataset on a topic you're interested in. Some easy options are data.gov, kaggle.com, and data.world.\n",
        "2. Clean the data and do some exploratory data analysis on key variables that interest you. Pick a particular target/outcome variable and features/predictors.\n",
        "3. Split the sample into an ~80% training set and a ~20% test set.\n",
        "4. Run a few regressions of your target/outcome variable on a variety of features/predictors. Compute the SSE on the test set.\n",
        "5. Which model performed the best, and why?\n",
        "6. What did you learn?"
      ]
    },
    {
      "cell_type": "markdown",
      "id": "fcf48562",
      "metadata": {},
      "source": [
        "**Q9.** There is a folder called `heart_failure` which contains reasonably detailed health data on patients and whether they die of congestive heart failure. \n",
        "\n",
        "1. Load the data and perform an 80/20-train/test split.\n",
        "2. Using dummy/one-hot-encoded variables and transformations of the numeric features, build the best model you can. **But**, do not delete code chunks or revise your work substantially as you experiment. Just keep moving forward with your ideas and experiments.\n",
        "3. When you're done, scroll through your notebook. What worked and what didn't? Does your code have intention, or are you randomly experimenting? If you had to do this again, what might you do differently to get to a good model faster?\n"
      ]
    },
    {
      "cell_type": "markdown",
      "id": "0125d03b",
      "metadata": {
        "vscode": {
          "languageId": "plaintext"
        }
      },
      "source": [
        "**Q10.** Let's look at a cousin of Linear Regression, called **kernel regression** or **local constant least squares** or **Nadaraya-Watson Estimator**.\n",
        "\n",
        "We derived the OLS estimator for single linear regression by minimizing\n",
        "$$\n",
        "SSE(b_0, b_1) = \\frac{1}{N}\\sum_{i=1}^N (y_i - b_0 - b_1 x_i)^2\n",
        "$$\n",
        "with solution\n",
        "$$\n",
        "\\hat{b}_0 = \\bar{y} - \\hat{b}_1 \\bar{x}, \\quad \\hat{b}_1 = \\dfrac{\\frac{1}{N} \\sum_{i=1}^N (x_i-\\bar{x})(y_i - \\bar{y})}{s_x^2}.\n",
        "$$\n",
        "\n",
        "When you step back and think about it, this is a bit weird: The algorithm is computing sample means, variances, and covariances, and using those to create a predictive model. The data themselves arguably vanish from the solution. This is elegant, this is strange.\n",
        "\n",
        "Instead, let $k(z)$ be a kernel function, such as the Gaussian\n",
        "$$\n",
        "k(z) = \\frac{1}{\\sqrt{2\\pi}} e^{-z^2/2}\n",
        "$$\n",
        "or uniform\n",
        "$$\n",
        "k(z) = \\begin{cases}\n",
        "1/2, & |z| \\le \\frac{1}{2}\\\\\n",
        "0, & \\text{otherwise.}\n",
        "\\end{cases}\n",
        "$$\n",
        "We'll instead minimize, or each predictor value $x$,\n",
        "$$\n",
        "SSE(\\hat{y}(x)) = \\dfrac{1}{N} \\sum_{i=1}^N \\left\\lbrace y_i - \\hat{y}(x)\\right\\rbrace^2 \\dfrac{1}{h} k \\left( \\dfrac{x-x_i}{h} \\right).\n",
        "$$\n",
        "\n",
        "1. Show that the optimal predictor is\n",
        "$$\n",
        "\\hat{y}(x) = \\dfrac{ \\frac{1}{Nh} \\sum_{i=1}^N  y_i k \\left( \\dfrac{x-x_i}{h} \\right) }{\\frac{1}{Nh} \\sum_{i=1}^N k \\left(  \\dfrac{x-x_i}{h} \\right)}\n",
        "$$\n",
        "This has many names, but let's call it the local constant least squares (LCLS) estimator, as opposed to ordinary least squares (OLS).\n",
        "\n",
        "2. Compare and contrast LCLS with both OLS and $k$-Nearest Neighbor as a regression algorithm. \n",
        "\n",
        "3. Write a function or class that implements the LCLS estimator for a single predictor variable $x$. For a default bandwidth $h$, you can use the maximum of the Silverman plug-ins for estimating kernel densities for $X$ and $Y$:\n",
        "$$\n",
        "h_y = 1.06 \\times s_y^{-1/5}, \\quad h_x = 1.06 \\times s_x^{-1/5},\n",
        "$$\n",
        "$$\n",
        "h = \\max \\{ h_y, h_x \\}.\n",
        "$$\n",
        "For the kernel, you can hard-code the uniform, Gaussian, or Epanechnikov, or make it a parameter the user can adjust with a default choice.\n",
        "\n",
        "4. For one of the datasets available for the homework, use your LCLS estimator from part 3 to predict values $\\hat{y}(x_i)$ for each datapoint $x_i$. Plot your estimator $\\hat{y}$ as a line over a scatterplot of the data $\\{(x_i,y_i)\\}_{i=1}^N$. Tune the bandwidth until you \n",
        "\n",
        "5. Conceptually, how would you extend this analysis to a vector of predictors, $x = (x_1, ..., x_L)$ instead of just one explanatory variable $x$?\n"
      ]
    }
  ],
  "metadata": {
    "colab": {
      "provenance": []
    },
    "kernelspec": {
      "display_name": "Python 3 (ipykernel)",
      "language": "python",
      "name": "python3"
    },
    "language_info": {
      "codemirror_mode": {
        "name": "ipython",
        "version": 3
      },
      "file_extension": ".py",
      "mimetype": "text/x-python",
      "name": "python",
      "nbconvert_exporter": "python",
      "pygments_lexer": "ipython3",
      "version": "3.11.5"
    }
  },
  "nbformat": 4,
  "nbformat_minor": 5
}
